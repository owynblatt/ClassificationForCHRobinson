{
 "cells": [
  {
   "cell_type": "markdown",
   "id": "02ed372a",
   "metadata": {},
   "source": [
    "#### Hello and thank you for taking the time to evaluate me for this position! I have organized my notebook so that the first part of the notebook are the direct answers to the questions asked. Below that I have kept an appendix of all the code I ran as well as notes I made in the form of comments."
   ]
  },
  {
   "cell_type": "markdown",
   "id": "18cea0f1",
   "metadata": {},
   "source": [
    "# Data and Notebook Setup"
   ]
  },
  {
   "cell_type": "markdown",
   "id": "4aba807a",
   "metadata": {},
   "source": [
    "### Installing Packages for later"
   ]
  },
  {
   "cell_type": "code",
   "execution_count": 1,
   "id": "a2f95999",
   "metadata": {},
   "outputs": [],
   "source": [
    "#install.packages(\"e1071\")   \n",
    "#install.packages(\"gbm\")                                                         #run each only once please. \n",
    "#packageLocation <- \"----------------------/irr_0.80.tar.gz\"                          # I have removed the file system information\n",
    "#install.packages(packageLocation, type = \"source\")                                   # but these are the files you need. You can\n",
    "#packageLocation <- \"----------------------/lpSolve_5.6.15.zip\"                       # get them from the CRAN archive.\n",
    "#install.packages(packageLocation)\n"
   ]
  },
  {
   "cell_type": "markdown",
   "id": "27ef6726",
   "metadata": {},
   "source": [
    "### 1) Reading in Data"
   ]
  },
  {
   "cell_type": "code",
   "execution_count": 2,
   "id": "7efe7299",
   "metadata": {},
   "outputs": [],
   "source": [
    "data <- read.csv(\"IMA Recommendation Simulation Data.csv\")"
   ]
  },
  {
   "cell_type": "markdown",
   "id": "f96ab288",
   "metadata": {},
   "source": [
    "### 1a) The data has 161563 rows and 16 columns. See code below:"
   ]
  },
  {
   "cell_type": "code",
   "execution_count": 3,
   "id": "6b7b6707",
   "metadata": {},
   "outputs": [
    {
     "data": {
      "text/html": [
       "<ol class=list-inline>\n",
       "\t<li>161563</li>\n",
       "\t<li>16</li>\n",
       "</ol>\n"
      ],
      "text/latex": [
       "\\begin{enumerate*}\n",
       "\\item 161563\n",
       "\\item 16\n",
       "\\end{enumerate*}\n"
      ],
      "text/markdown": [
       "1. 161563\n",
       "2. 16\n",
       "\n",
       "\n"
      ],
      "text/plain": [
       "[1] 161563     16"
      ]
     },
     "metadata": {},
     "output_type": "display_data"
    }
   ],
   "source": [
    "dim(data)"
   ]
  },
  {
   "cell_type": "markdown",
   "id": "7d12c0d3",
   "metadata": {},
   "source": [
    "### 1b) There are 8 Levels of Current Condition"
   ]
  },
  {
   "cell_type": "code",
   "execution_count": 4,
   "id": "8efa7a5b",
   "metadata": {},
   "outputs": [
    {
     "data": {
      "text/html": [
       "8"
      ],
      "text/latex": [
       "8"
      ],
      "text/markdown": [
       "8"
      ],
      "text/plain": [
       "[1] 8"
      ]
     },
     "metadata": {},
     "output_type": "display_data"
    }
   ],
   "source": [
    "length(levels(data$CurrentCondition))"
   ]
  },
  {
   "cell_type": "markdown",
   "id": "493d797b",
   "metadata": {},
   "source": [
    "# Exploratory Data Analysis"
   ]
  },
  {
   "cell_type": "markdown",
   "id": "4be8b7bf",
   "metadata": {},
   "source": [
    "### 2a) Request ID is not unique"
   ]
  },
  {
   "cell_type": "code",
   "execution_count": 5,
   "id": "1b318a6d",
   "metadata": {},
   "outputs": [
    {
     "data": {
      "text/html": [
       "FALSE"
      ],
      "text/latex": [
       "FALSE"
      ],
      "text/markdown": [
       "FALSE"
      ],
      "text/plain": [
       "[1] FALSE"
      ]
     },
     "metadata": {},
     "output_type": "display_data"
    }
   ],
   "source": [
    "isAllUnique <- length(unique(data$request_id)) == length(data$request_id)\n",
    "isAllUnique"
   ]
  },
  {
   "cell_type": "markdown",
   "id": "9e037177",
   "metadata": {},
   "source": [
    "### 2b) There is missing data. Specifically the columns order_distance, order_origin_weight, rate_norm, and est_cost_norm contain missing data. Counts can be found below."
   ]
  },
  {
   "cell_type": "code",
   "execution_count": 6,
   "id": "b3992e48",
   "metadata": {},
   "outputs": [
    {
     "data": {
      "text/html": [
       "<table>\n",
       "<thead><tr><th scope=col>X</th><th scope=col>request_id</th><th scope=col>week_id</th><th scope=col>weekday</th><th scope=col>miles</th><th scope=col>order_equipment_type</th><th scope=col>order_distance</th><th scope=col>order_num_stops</th><th scope=col>order_origin_weight</th><th scope=col>lead_days</th><th scope=col>color</th><th scope=col>origin_dat_ref</th><th scope=col>dest_dat_ref</th><th scope=col>rate_norm</th><th scope=col>est_cost_norm</th><th scope=col>CurrentCondition</th></tr></thead>\n",
       "<tbody>\n",
       "\t<tr><td>0   </td><td>0   </td><td>0   </td><td>0   </td><td>0   </td><td>0   </td><td>4678</td><td>0   </td><td>19  </td><td>0   </td><td>0   </td><td>0   </td><td>0   </td><td>181 </td><td>39  </td><td>0   </td></tr>\n",
       "</tbody>\n",
       "</table>\n"
      ],
      "text/latex": [
       "\\begin{tabular}{r|llllllllllllllll}\n",
       " X & request\\_id & week\\_id & weekday & miles & order\\_equipment\\_type & order\\_distance & order\\_num\\_stops & order\\_origin\\_weight & lead\\_days & color & origin\\_dat\\_ref & dest\\_dat\\_ref & rate\\_norm & est\\_cost\\_norm & CurrentCondition\\\\\n",
       "\\hline\n",
       "\t 0    & 0    & 0    & 0    & 0    & 0    & 4678 & 0    & 19   & 0    & 0    & 0    & 0    & 181  & 39   & 0   \\\\\n",
       "\\end{tabular}\n"
      ],
      "text/markdown": [
       "\n",
       "| X | request_id | week_id | weekday | miles | order_equipment_type | order_distance | order_num_stops | order_origin_weight | lead_days | color | origin_dat_ref | dest_dat_ref | rate_norm | est_cost_norm | CurrentCondition |\n",
       "|---|---|---|---|---|---|---|---|---|---|---|---|---|---|---|---|\n",
       "| 0    | 0    | 0    | 0    | 0    | 0    | 4678 | 0    | 19   | 0    | 0    | 0    | 0    | 181  | 39   | 0    |\n",
       "\n"
      ],
      "text/plain": [
       "  X request_id week_id weekday miles order_equipment_type order_distance\n",
       "1 0 0          0       0       0     0                    4678          \n",
       "  order_num_stops order_origin_weight lead_days color origin_dat_ref\n",
       "1 0               19                  0         0     0             \n",
       "  dest_dat_ref rate_norm est_cost_norm CurrentCondition\n",
       "1 0            181       39            0               "
      ]
     },
     "metadata": {},
     "output_type": "display_data"
    }
   ],
   "source": [
    "vectorOfNACounts <- lapply(data, function(y) sum(is.na(y)))\n",
    "data.frame(vectorOfNACounts)"
   ]
  },
  {
   "cell_type": "markdown",
   "id": "876c5074",
   "metadata": {},
   "source": [
    "### 2c) I would consider the following pairs to be correlated:\n",
    "* Miles and Normalized Estimated Cost: It would make sense that the distance an order is being shipped impacts the cost significantly.\n",
    "* Normalized Rate and Normalized Estimated Cost: Given the nature of the business, in order to satisfy customers the amount they pay should reflect the amount it costs to ship things."
   ]
  },
  {
   "cell_type": "code",
   "execution_count": 7,
   "id": "cef9f20c",
   "metadata": {},
   "outputs": [
    {
     "name": "stdout",
     "output_type": "stream",
     "text": [
      "[1] \"Here is est_cost_norm and miles\"\n"
     ]
    },
    {
     "data": {
      "text/html": [
       "0.745950183476279"
      ],
      "text/latex": [
       "0.745950183476279"
      ],
      "text/markdown": [
       "0.745950183476279"
      ],
      "text/plain": [
       "[1] 0.7459502"
      ]
     },
     "metadata": {},
     "output_type": "display_data"
    },
    {
     "data": {
      "image/png": "[encoded data removed]",
      "text/plain": [
       "plot without title"
      ]
     },
     "metadata": {},
     "output_type": "display_data"
    }
   ],
   "source": [
    "temp <- data\n",
    "temp <- na.omit(temp)\n",
    "\n",
    "print(\"Here is est_cost_norm and miles\")\n",
    "\n",
    "cor(temp$miles, temp$est_cost_norm)\n",
    "plot(temp$miles~ temp$est_cost_norm, xlim = c(-5,5))"
   ]
  },
  {
   "cell_type": "code",
   "execution_count": 8,
   "id": "19ac0490",
   "metadata": {},
   "outputs": [
    {
     "name": "stdout",
     "output_type": "stream",
     "text": [
      "[1] \"Here is est_cost_norm and rate_norm\"\n"
     ]
    },
    {
     "data": {
      "text/html": [
       "0.805134999202513"
      ],
      "text/latex": [
       "0.805134999202513"
      ],
      "text/markdown": [
       "0.805134999202513"
      ],
      "text/plain": [
       "[1] 0.805135"
      ]
     },
     "metadata": {},
     "output_type": "display_data"
    },
    {
     "data": {
      "image/png": "[encoded data removed]",
      "text/plain": [
       "plot without title"
      ]
     },
     "metadata": {},
     "output_type": "display_data"
    }
   ],
   "source": [
    "print(\"Here is est_cost_norm and rate_norm\")\n",
    "\n",
    "cor(temp$rate_norm, temp$est_cost_norm)\n",
    "plot(temp$rate_norm~ temp$est_cost_norm, xlim = c(-5,5),ylim = c(-5,5))"
   ]
  },
  {
   "cell_type": "markdown",
   "id": "eaaca901",
   "metadata": {},
   "source": [
    "### 2d) Here are two other visualizations I made:"
   ]
  },
  {
   "cell_type": "code",
   "execution_count": 9,
   "id": "68e7f733",
   "metadata": {},
   "outputs": [
    {
     "data": {
      "image/png": "[encoded data removed]",
      "text/plain": [
       "Plot with title \"Distribution of Conditions for Negative Lead Day Cases\""
      ]
     },
     "metadata": {},
     "output_type": "display_data"
    }
   ],
   "source": [
    "negativeLeadDaysSubset <- data[data$lead_days <0,]\n",
    "barplot(table(negativeLeadDaysSubset$CurrentCondition),las =2, main=\"Distribution of Conditions for Negative Lead Day Cases\")"
   ]
  },
  {
   "cell_type": "markdown",
   "id": "d554bd35",
   "metadata": {},
   "source": [
    "###### When I made this chart I suspected that negative lead day cases were human errors and would have a higher rate of Canceled, Rejected, or Withdrawn cases than the rest of the data. I was also unsure whether this was a problem with the data or a specific kind of case that was documented this way. Given this this is the same rough distribution as the rest of the data, I rejected the idea that these cases were caused by human error. I did not make an assessment on the second issue."
   ]
  },
  {
   "cell_type": "code",
   "execution_count": 10,
   "id": "1d81918b",
   "metadata": {},
   "outputs": [
    {
     "data": {
      "image/png": "[encoded data removed]",
      "text/plain": [
       "Plot with title \"Distribution of Colors by Condition\""
      ]
     },
     "metadata": {},
     "output_type": "display_data"
    }
   ],
   "source": [
    "justColorAndCondition <- data[,c(\"color\",\"CurrentCondition\")]\n",
    "barplot(table(justColorAndCondition),las =2, main=\"Distribution of Colors by Condition\", legend=TRUE)"
   ]
  },
  {
   "cell_type": "markdown",
   "id": "0efbe9ed",
   "metadata": {},
   "source": [
    "###### This graph was made because I was trying to determine the color's relationship to the current condition. I was worried that certain order statuses would have a 1:1 relationship with color (determined after the condition was known). If this was the case I would have avoided using it as part of my models because the color would be unassigned at the time of predicting. This graph shows that this is not the case and I would go on to use color in my models."
   ]
  },
  {
   "cell_type": "markdown",
   "id": "6d4089e5",
   "metadata": {},
   "source": [
    "# Classification Modeling"
   ]
  },
  {
   "cell_type": "markdown",
   "id": "0a8cccea",
   "metadata": {},
   "source": [
    "### 3) Below is my code that creates the two train test splits that I will use to make my model. See comments below."
   ]
  },
  {
   "cell_type": "code",
   "execution_count": 11,
   "id": "50c0ad34",
   "metadata": {},
   "outputs": [
    {
     "name": "stderr",
     "output_type": "stream",
     "text": [
      "\n",
      "Attaching package: 'dplyr'\n",
      "\n",
      "The following objects are masked from 'package:stats':\n",
      "\n",
      "    filter, lag\n",
      "\n",
      "The following objects are masked from 'package:base':\n",
      "\n",
      "    intersect, setdiff, setequal, union\n",
      "\n",
      "Loading required package: lattice\n",
      "Loading required package: ggplot2\n",
      "Registered S3 methods overwritten by 'ggplot2':\n",
      "  method         from \n",
      "  [.quosures     rlang\n",
      "  c.quosures     rlang\n",
      "  print.quosures rlang\n"
     ]
    }
   ],
   "source": [
    "library(dplyr)\n",
    "library(caret)\n",
    "\n",
    "#This is used in my simple tree model.\n",
    "dataForModel <- select(data, -request_id, -X)\n",
    "dataForModel <- na.omit(dataForModel)\n",
    "dataForModel <- dataForModel[-81224,]\n",
    "\n",
    "#creating a reproducable test train split\n",
    "set.seed(555)\n",
    "\n",
    "trainIndexes <- createDataPartition(dataForModel$CurrentCondition, p=.9, list=FALSE)\n",
    "trainSet <- dataForModel[trainIndexes,]\n",
    "testSet <- dataForModel[-trainIndexes,]\n",
    "\n",
    "#This is used in my gradient boosted tree model. Note that it is MUCH smaller than the previous\n",
    "#subset. Ideally the models would run on identical datasets but my computer could not handle running\n",
    "# the gradient boosted model with the large dataset.\n",
    "\n",
    "set.seed(555)\n",
    "\n",
    "#create a smaller subset\n",
    "dataTemp <- select(data, -request_id, -X)\n",
    "dataTemp <- dataTemp[-81224,]\n",
    "dataTemp <- na.omit(dataTemp)\n",
    "\n",
    "dataSmallIndex <- createDataPartition(dataTemp$CurrentCondition, p=.01, list=FALSE)\n",
    "dataSmallTrain <- dataTemp[dataSmallIndex,]\n",
    "dataSmallTest <- dataTemp[-dataSmallIndex,]\n"
   ]
  },
  {
   "cell_type": "markdown",
   "id": "45f4c8d7",
   "metadata": {},
   "source": [
    "### 4) Here are my two classifiers:"
   ]
  },
  {
   "cell_type": "code",
   "execution_count": 12,
   "id": "30e06b64",
   "metadata": {},
   "outputs": [
    {
     "name": "stderr",
     "output_type": "stream",
     "text": [
      "Warning message:\n",
      "\"package 'e1071' was built under R version 3.6.3\""
     ]
    },
    {
     "data": {
      "text/plain": [
       "CART \n",
       "\n",
       "141022 samples\n",
       "    22 predictor\n",
       "     8 classes: '', 'Accepted', 'Cancelled', 'NoPace', 'Rejected', 'Waiting On Acceptance', 'Waiting On Recommendation', 'Withdrawn' \n",
       "\n",
       "No pre-processing\n",
       "Resampling: Cross-Validated (5 fold, repeated 3 times) \n",
       "Summary of sample sizes: 112815, 112819, 112816, 112820, 112818, 112818, ... \n",
       "Resampling results across tuning parameters:\n",
       "\n",
       "  cp           Accuracy   Kappa     \n",
       "  0.004114865  0.6243586  0.16637405\n",
       "  0.004180808  0.6240537  0.16536655\n",
       "  0.022306434  0.6059574  0.05267748\n",
       "\n",
       "Accuracy was used to select the optimal model using the largest value.\n",
       "The final value used for the model was cp = 0.004114865."
      ]
     },
     "metadata": {},
     "output_type": "display_data"
    }
   ],
   "source": [
    "library(e1071)\n",
    "\n",
    "trainY <- trainSet$CurrentCondition\n",
    "trainX <- select(trainSet,-CurrentCondition)\n",
    "trainXPredictor <- dummyVars(\"~ .\",data=trainX)\n",
    "trainXDummies <- as.data.frame(predict(trainXPredictor, newdata=trainX))\n",
    "\n",
    "dataInput <- trainXDummies\n",
    "dataInput$CurrentCondition <- as.factor(trainY)\n",
    "\n",
    "#Create a control for the model\n",
    "\n",
    "control <- trainControl(method=\"repeatedcv\", number=5, repeats=3)\n",
    "\n",
    "#-----------------------------------------------------------------------------\n",
    "# Actually create the model, in this case a simple decision tree\n",
    "#-----------------------------------------------------------------------------\n",
    "\n",
    "treeMethod <- train(CurrentCondition~.,data=dataInput,method='rpart', trControl=control)\n",
    "treeMethod"
   ]
  },
  {
   "cell_type": "code",
   "execution_count": 13,
   "id": "6e3d476c",
   "metadata": {},
   "outputs": [
    {
     "name": "stderr",
     "output_type": "stream",
     "text": [
      "Warning message:\n",
      "\"package 'gbm' was built under R version 3.6.3\"Loaded gbm 2.1.8\n",
      "Warning message in (function (x, y, offset = NULL, misc = NULL, distribution = \"bernoulli\", :\n",
      "\"variable 11: order_num_stops has no variation.\"Warning message in (function (x, y, offset = NULL, misc = NULL, distribution = \"bernoulli\", :\n",
      "\"variable 11: order_num_stops has no variation.\"Warning message in (function (x, y, offset = NULL, misc = NULL, distribution = \"bernoulli\", :\n",
      "\"variable 11: order_num_stops has no variation.\"Warning message in (function (x, y, offset = NULL, misc = NULL, distribution = \"bernoulli\", :\n",
      "\"variable 11: order_num_stops has no variation.\"Warning message in (function (x, y, offset = NULL, misc = NULL, distribution = \"bernoulli\", :\n",
      "\"variable 11: order_num_stops has no variation.\"Warning message in (function (x, y, offset = NULL, misc = NULL, distribution = \"bernoulli\", :\n",
      "\"variable 11: order_num_stops has no variation.\"Warning message in (function (x, y, offset = NULL, misc = NULL, distribution = \"bernoulli\", :\n",
      "\"variable 11: order_num_stops has no variation.\"Warning message in (function (x, y, offset = NULL, misc = NULL, distribution = \"bernoulli\", :\n",
      "\"variable 11: order_num_stops has no variation.\"Warning message in (function (x, y, offset = NULL, misc = NULL, distribution = \"bernoulli\", :\n",
      "\"variable 11: order_num_stops has no variation.\"Warning message in (function (x, y, offset = NULL, misc = NULL, distribution = \"bernoulli\", :\n",
      "\"variable 11: order_num_stops has no variation.\"Warning message in (function (x, y, offset = NULL, misc = NULL, distribution = \"bernoulli\", :\n",
      "\"variable 11: order_num_stops has no variation.\"Warning message in (function (x, y, offset = NULL, misc = NULL, distribution = \"bernoulli\", :\n",
      "\"variable 11: order_num_stops has no variation.\"Warning message in (function (x, y, offset = NULL, misc = NULL, distribution = \"bernoulli\", :\n",
      "\"variable 11: order_num_stops has no variation.\"Warning message in (function (x, y, offset = NULL, misc = NULL, distribution = \"bernoulli\", :\n",
      "\"variable 11: order_num_stops has no variation.\"Warning message in (function (x, y, offset = NULL, misc = NULL, distribution = \"bernoulli\", :\n",
      "\"variable 11: order_num_stops has no variation.\"Warning message in (function (x, y, offset = NULL, misc = NULL, distribution = \"bernoulli\", :\n",
      "\"variable 11: order_num_stops has no variation.\"Warning message in (function (x, y, offset = NULL, misc = NULL, distribution = \"bernoulli\", :\n",
      "\"variable 11: order_num_stops has no variation.\"Warning message in (function (x, y, offset = NULL, misc = NULL, distribution = \"bernoulli\", :\n",
      "\"variable 11: order_num_stops has no variation.\"Warning message in (function (x, y, offset = NULL, misc = NULL, distribution = \"bernoulli\", :\n",
      "\"variable 11: order_num_stops has no variation.\"Warning message in (function (x, y, offset = NULL, misc = NULL, distribution = \"bernoulli\", :\n",
      "\"variable 11: order_num_stops has no variation.\"Warning message in (function (x, y, offset = NULL, misc = NULL, distribution = \"bernoulli\", :\n",
      "\"variable 11: order_num_stops has no variation.\"Warning message in (function (x, y, offset = NULL, misc = NULL, distribution = \"bernoulli\", :\n",
      "\"variable 11: order_num_stops has no variation.\"Warning message in (function (x, y, offset = NULL, misc = NULL, distribution = \"bernoulli\", :\n",
      "\"variable 11: order_num_stops has no variation.\"Warning message in (function (x, y, offset = NULL, misc = NULL, distribution = \"bernoulli\", :\n",
      "\"variable 11: order_num_stops has no variation.\"Warning message in (function (x, y, offset = NULL, misc = NULL, distribution = \"bernoulli\", :\n",
      "\"variable 11: order_num_stops has no variation.\"Warning message in (function (x, y, offset = NULL, misc = NULL, distribution = \"bernoulli\", :\n",
      "\"variable 11: order_num_stops has no variation.\"Warning message in (function (x, y, offset = NULL, misc = NULL, distribution = \"bernoulli\", :\n",
      "\"variable 11: order_num_stops has no variation.\"Warning message in (function (x, y, offset = NULL, misc = NULL, distribution = \"bernoulli\", :\n",
      "\"variable 11: order_num_stops has no variation.\"Warning message in (function (x, y, offset = NULL, misc = NULL, distribution = \"bernoulli\", :\n",
      "\"variable 11: order_num_stops has no variation.\"Warning message in (function (x, y, offset = NULL, misc = NULL, distribution = \"bernoulli\", :\n",
      "\"variable 11: order_num_stops has no variation.\"Warning message in (function (x, y, offset = NULL, misc = NULL, distribution = \"bernoulli\", :\n",
      "\"variable 11: order_num_stops has no variation.\"Warning message in (function (x, y, offset = NULL, misc = NULL, distribution = \"bernoulli\", :\n",
      "\"variable 11: order_num_stops has no variation.\"Warning message in (function (x, y, offset = NULL, misc = NULL, distribution = \"bernoulli\", :\n",
      "\"variable 11: order_num_stops has no variation.\"Warning message in (function (x, y, offset = NULL, misc = NULL, distribution = \"bernoulli\", :\n",
      "\"variable 11: order_num_stops has no variation.\"Warning message in (function (x, y, offset = NULL, misc = NULL, distribution = \"bernoulli\", :\n",
      "\"variable 11: order_num_stops has no variation.\"Warning message in (function (x, y, offset = NULL, misc = NULL, distribution = \"bernoulli\", :\n",
      "\"variable 11: order_num_stops has no variation.\"Warning message in (function (x, y, offset = NULL, misc = NULL, distribution = \"bernoulli\", :\n",
      "\"variable 11: order_num_stops has no variation.\"Warning message in (function (x, y, offset = NULL, misc = NULL, distribution = \"bernoulli\", :\n",
      "\"variable 11: order_num_stops has no variation.\"Warning message in (function (x, y, offset = NULL, misc = NULL, distribution = \"bernoulli\", :\n",
      "\"variable 11: order_num_stops has no variation.\"Warning message in (function (x, y, offset = NULL, misc = NULL, distribution = \"bernoulli\", :\n",
      "\"variable 11: order_num_stops has no variation.\"Warning message in (function (x, y, offset = NULL, misc = NULL, distribution = \"bernoulli\", :\n",
      "\"variable 11: order_num_stops has no variation.\"Warning message in (function (x, y, offset = NULL, misc = NULL, distribution = \"bernoulli\", :\n",
      "\"variable 11: order_num_stops has no variation.\"Warning message in (function (x, y, offset = NULL, misc = NULL, distribution = \"bernoulli\", :\n",
      "\"variable 11: order_num_stops has no variation.\"Warning message in (function (x, y, offset = NULL, misc = NULL, distribution = \"bernoulli\", :\n",
      "\"variable 11: order_num_stops has no variation.\"Warning message in (function (x, y, offset = NULL, misc = NULL, distribution = \"bernoulli\", :\n",
      "\"variable 11: order_num_stops has no variation.\"Warning message in (function (x, y, offset = NULL, misc = NULL, distribution = \"bernoulli\", :\n",
      "\"variable 11: order_num_stops has no variation.\""
     ]
    },
    {
     "data": {
      "text/plain": [
       "Stochastic Gradient Boosting \n",
       "\n",
       "1571 samples\n",
       "  13 predictor\n",
       "   8 classes: '', 'Accepted', 'Cancelled', 'NoPace', 'Rejected', 'Waiting On Acceptance', 'Waiting On Recommendation', 'Withdrawn' \n",
       "\n",
       "No pre-processing\n",
       "Resampling: Cross-Validated (5 fold, repeated 3 times) \n",
       "Summary of sample sizes: 1256, 1257, 1256, 1256, 1259, 1258, ... \n",
       "Resampling results across tuning parameters:\n",
       "\n",
       "  interaction.depth  n.trees  Accuracy   Kappa    \n",
       "  1                   50      0.5924333  0.1121448\n",
       "  1                  100      0.5981410  0.1607649\n",
       "  1                  150      0.5994319  0.1741117\n",
       "  2                   50      0.5926236  0.1609101\n",
       "  2                  100      0.5892319  0.1729199\n",
       "  2                  150      0.5932667  0.1956841\n",
       "  3                   50      0.5964479  0.1811631\n",
       "  3                  100      0.6006686  0.2074961\n",
       "  3                  150      0.5947575  0.2070049\n",
       "\n",
       "Tuning parameter 'shrinkage' was held constant at a value of 0.1\n",
       "\n",
       "Tuning parameter 'n.minobsinnode' was held constant at a value of 10\n",
       "Accuracy was used to select the optimal model using the largest value.\n",
       "The final values used for the model were n.trees = 100, interaction.depth =\n",
       " 3, shrinkage = 0.1 and n.minobsinnode = 10."
      ]
     },
     "metadata": {},
     "output_type": "display_data"
    }
   ],
   "source": [
    "#same control\n",
    "control <- trainControl(method=\"repeatedcv\", number=5, repeats=3)\n",
    "\n",
    "#-----------------------------------------------------------------------------\n",
    "# Actually running a gradient boosted decision tree model: Note doesn't need dummy variables.\n",
    "#Creating dummies is an automatic part of this particular package. See output.\n",
    "#-----------------------------------------------------------------------------\n",
    "library(gbm)\n",
    "\n",
    "gradientBoosting <- train(CurrentCondition~.,data=dataSmallTrain,method='gbm', trControl=control, verbose=FALSE)\n",
    "gradientBoosting\n",
    "\n",
    "#Note: This makes many warnings because this subset does not contain the singular row that has 4 stops. Therefore the variable has\n",
    "#a standard deviation of 0 across the subset. As you will see later it doesn't use the variable anyway."
   ]
  },
  {
   "cell_type": "markdown",
   "id": "80c59c73",
   "metadata": {},
   "source": [
    "### 4a) First some context..."
   ]
  },
  {
   "cell_type": "code",
   "execution_count": 14,
   "id": "0a3ccec3",
   "metadata": {},
   "outputs": [
    {
     "name": "stderr",
     "output_type": "stream",
     "text": [
      "Warning message:\n",
      "\"package 'irr' was built under R version 4.0.3\"Loading required package: lpSolve\n",
      "Warning message:\n",
      "\"package 'lpSolve' was built under R version 4.2.0\""
     ]
    },
    {
     "data": {
      "text/plain": [
       " Cohen's Kappa for 2 Raters (Weights: unweighted)\n",
       "\n",
       " Subjects = 15664 \n",
       "   Raters = 2 \n",
       "    Kappa = 0.194 \n",
       "\n",
       "        z = 38.1 \n",
       "  p-value = 0 "
      ]
     },
     "metadata": {},
     "output_type": "display_data"
    }
   ],
   "source": [
    "testY <- testSet$CurrentCondition\n",
    "testX <- select(testSet, -CurrentCondition)\n",
    "testXPredictor <- dummyVars(\"~ .\",data=testX)\n",
    "testXDummies <-as.data.frame(predict(testXPredictor, newdata=testX))\n",
    "treePredictions <- predict(treeMethod,testXDummies)\n",
    "\n",
    "library(irr)\n",
    "kappa2(cbind(testY,treePredictions))"
   ]
  },
  {
   "cell_type": "code",
   "execution_count": 15,
   "id": "b087ddab",
   "metadata": {},
   "outputs": [
    {
     "data": {
      "text/plain": [
       " Cohen's Kappa for 2 Raters (Weights: unweighted)\n",
       "\n",
       " Subjects = 155115 \n",
       "   Raters = 2 \n",
       "    Kappa = 0.237 \n",
       "\n",
       "        z = 130 \n",
       "  p-value = 0 "
      ]
     },
     "metadata": {},
     "output_type": "display_data"
    }
   ],
   "source": [
    "testY <- dataSmallTest$CurrentCondition\n",
    "testX <- select(dataSmallTest, -CurrentCondition)\n",
    "gradientPredictions <- predict(gradientBoosting,testX)\n",
    "\n",
    "library(irr)\n",
    "kappa2(cbind(testY,gradientPredictions))"
   ]
  },
  {
   "cell_type": "markdown",
   "id": "6365fcc8",
   "metadata": {},
   "source": [
    "###### I would say the second classifier, the gradient boosted decision tree, is the better model. The way we are measuring this is based on the agreement between the predictions of the model and reality. Instead of using accuracy we are using Kappa because it preforms better than accuracy in cases where the distribution of results is far from even. Given that we have 8 possible classifications and the large majority of results are in three of those buckets, I believe that kappa is the better metric to judge agreement. Given that the boosted model has a higher kappa on the testing data, I would say that it preforms better."
   ]
  },
  {
   "cell_type": "markdown",
   "id": "cca91aeb",
   "metadata": {},
   "source": [
    "### 4b) Here are the features in order of importance for each model. Discussion below:"
   ]
  },
  {
   "cell_type": "code",
   "execution_count": 16,
   "id": "ba62c93d",
   "metadata": {},
   "outputs": [
    {
     "name": "stdout",
     "output_type": "stream",
     "text": [
      "[1] \"These are the variable chosen by the regular tree model in order of Importance.\"\n"
     ]
    },
    {
     "data": {
      "text/plain": [
       "rpart variable importance\n",
       "\n",
       "  only 20 most important variables shown (out of 22)\n",
       "\n",
       "                        Overall\n",
       "color.RED              100.0000\n",
       "color.GREEN             84.8222\n",
       "order_origin_weight     34.3857\n",
       "origin_dat_ref          28.8834\n",
       "lead_days               16.0749\n",
       "miles                   10.9875\n",
       "order_distance           8.5899\n",
       "color.YELLOW             4.9566\n",
       "order_equipment_type.R   2.5342\n",
       "order_equipment_type.V   2.5342\n",
       "est_cost_norm            1.1021\n",
       "dest_dat_ref             0.8157\n",
       "weekday.Thu              0.6046\n",
       "order_num_stops          0.0000\n",
       "rate_norm                0.0000\n",
       "weekday.Tue              0.0000\n",
       "weekday.Sat              0.0000\n",
       "weekday.Fri              0.0000\n",
       "weekday.Sun              0.0000\n",
       "weekday.Mon              0.0000"
      ]
     },
     "metadata": {},
     "output_type": "display_data"
    }
   ],
   "source": [
    "#print the important variables for the simple decision tree\n",
    "#---------------------------------------------------------------------------\n",
    "print(\"These are the variable chosen by the regular tree model in order of Importance.\")\n",
    "library(gbm)\n",
    "varImp(treeMethod)"
   ]
  },
  {
   "cell_type": "code",
   "execution_count": 17,
   "id": "c6e93a83",
   "metadata": {},
   "outputs": [
    {
     "name": "stdout",
     "output_type": "stream",
     "text": [
      "[1] \"These are the variable chosen by the regular tree model in order of Importance.\"\n"
     ]
    },
    {
     "data": {
      "text/plain": [
       "gbm variable importance\n",
       "\n",
       "                      Overall\n",
       "order_origin_weight   100.000\n",
       "colorRED               97.216\n",
       "origin_dat_ref         87.171\n",
       "est_cost_norm          62.681\n",
       "dest_dat_ref           62.236\n",
       "rate_norm              52.676\n",
       "order_distance         40.459\n",
       "miles                  37.064\n",
       "lead_days              32.792\n",
       "week_id                10.875\n",
       "colorYELLOW             5.308\n",
       "order_equipment_typeV   4.530\n",
       "weekdayThu              2.822\n",
       "weekdayWed              2.477\n",
       "weekdayTue              2.361\n",
       "weekdayMon              2.094\n",
       "weekdaySat              1.661\n",
       "weekdaySun              0.407\n",
       "order_num_stops         0.000"
      ]
     },
     "metadata": {},
     "output_type": "display_data"
    }
   ],
   "source": [
    "#print the important variables for the boosted decision tree\n",
    "#---------------------------------------------------------------------------\n",
    "print(\"These are the variable chosen by the regular tree model in order of Importance.\")\n",
    "library(gbm)\n",
    "varImp(gradientBoosting)"
   ]
  },
  {
   "cell_type": "markdown",
   "id": "8a480b8a",
   "metadata": {},
   "source": [
    "###### The simple tree uses fewer of the variables and focuses primarily on color. While the gradient boosted model also focuses heavily on the color red, it wieghts the other variables more highly such as the wieght of the delivery, the location the package is coming from and going to, and the estimated cost to the company and consumer. Also quickly note that both models have correctly assigned no importance to the number of stops as it has no variance in the training data."
   ]
  },
  {
   "cell_type": "markdown",
   "id": "3649a426",
   "metadata": {},
   "source": [
    "### 4c) I am using the kappa values for the train vs the test data to determine whether there is overfitting. The simple tree model has a higher kappa on the test data than the train data so we shouldn't worry too much about overfitting here. Gradient boosting is known to overfit however in this case there is no need to worry as we can see it peaks at 0.207 kappa and it gets higher than that, 0.237, on the test data."
   ]
  },
  {
   "cell_type": "markdown",
   "id": "4fce2bf7",
   "metadata": {},
   "source": [
    "# Critical Context and Reflection"
   ]
  },
  {
   "cell_type": "markdown",
   "id": "6736a6c4",
   "metadata": {},
   "source": [
    "### 5) I have two main questions about the dataset.\n",
    "1. Why are there cases where the lead days are negative? What is the situation where it makes sense to have an order arrive before it is ordered?\n",
    "2. I am still confused about what the colors mean. It says that they visualize order status and while they are certainly indicitive in some cases of Current Order Status they does not appear to be consistant.\n",
    "\n",
    "### In order to address these gaps in my knowledge, my first go-to would be to ask a colleague. If they were unable or unavailable to answer, I would locate further documentation on the variables."
   ]
  },
  {
   "cell_type": "markdown",
   "id": "05d175ec",
   "metadata": {},
   "source": [
    "# Apendix: Some More of my Code And Comments"
   ]
  },
  {
   "cell_type": "code",
   "execution_count": 18,
   "id": "0cf138aa",
   "metadata": {},
   "outputs": [
    {
     "data": {
      "text/html": [
       "<ol class=list-inline>\n",
       "\t<li>161563</li>\n",
       "\t<li>16</li>\n",
       "</ol>\n"
      ],
      "text/latex": [
       "\\begin{enumerate*}\n",
       "\\item 161563\n",
       "\\item 16\n",
       "\\end{enumerate*}\n"
      ],
      "text/markdown": [
       "1. 161563\n",
       "2. 16\n",
       "\n",
       "\n"
      ],
      "text/plain": [
       "[1] 161563     16"
      ]
     },
     "metadata": {},
     "output_type": "display_data"
    },
    {
     "data": {
      "text/plain": [
       "       X                                     request_id        week_id     \n",
       " Min.   :     0   f0293ccd87b445f5989c6c68726608dc:     2   Min.   :1.000  \n",
       " 1st Qu.: 40391   00000bafac3f429fb206bc74e2d13a32:     1   1st Qu.:1.000  \n",
       " Median : 80781   000041c0e76a4bb9930995c0123970b7:     1   Median :2.000  \n",
       " Mean   : 80781   0000e89d528241f1be9d9ad1d5b3ac12:     1   Mean   :2.441  \n",
       " 3rd Qu.:121172   00019f63c595456e8bf2d70c2c5f4437:     1   3rd Qu.:3.000  \n",
       " Max.   :161562   0001aca631f944a89c335222802ba3e3:     1   Max.   :4.000  \n",
       "                  (Other)                         :161556                  \n",
       " weekday         miles        order_equipment_type order_distance\n",
       " Fri:31400   Min.   :   1.0   R: 11873             Min.   :   0  \n",
       " Mon:31795   1st Qu.: 236.0   V:149690             1st Qu.: 225  \n",
       " Sat: 1486   Median : 450.0                        Median : 433  \n",
       " Sun:  836   Mean   : 624.8                        Mean   : 604  \n",
       " Thu:33734   3rd Qu.: 820.0                        3rd Qu.: 795  \n",
       " Tue:31257   Max.   :6171.0                        Max.   :3274  \n",
       " Wed:31055                                         NA's   :4678  \n",
       " order_num_stops order_origin_weight   lead_days           color      \n",
       " Min.   :2.000   Min.   :       1    Min.   :-363.000   GREEN :47440  \n",
       " 1st Qu.:2.000   1st Qu.:   26152    1st Qu.:   2.000   RED   :94557  \n",
       " Median :2.000   Median :   40900    Median :   4.000   YELLOW:19566  \n",
       " Mean   :2.031   Mean   :   34790    Mean   :   5.303                 \n",
       " 3rd Qu.:2.000   3rd Qu.:   43504    3rd Qu.:   7.000                 \n",
       " Max.   :4.000   Max.   :21230516    Max.   : 365.000                 \n",
       "                 NA's   :19                                           \n",
       " origin_dat_ref   dest_dat_ref     rate_norm       est_cost_norm    \n",
       " Min.   : 10.0   Min.   : 10.0   Min.   :-4.3803   Min.   :-3.7967  \n",
       " 1st Qu.:303.0   1st Qu.:308.0   1st Qu.:-0.6679   1st Qu.:-0.7001  \n",
       " Median :462.0   Median :490.0   Median :-0.2488   Median :-0.2684  \n",
       " Mean   :502.9   Mean   :528.3   Mean   : 0.0000   Mean   : 0.0000  \n",
       " 3rd Qu.:734.0   3rd Qu.:765.0   3rd Qu.: 0.4404   3rd Qu.: 0.4941  \n",
       " Max.   :993.0   Max.   :994.0   Max.   :31.5898   Max.   :11.1628  \n",
       "                                 NA's   :181       NA's   :39       \n",
       "              CurrentCondition\n",
       " Accepted             :96165  \n",
       " Rejected             :37143  \n",
       " Withdrawn            :23800  \n",
       " Cancelled            : 3388  \n",
       " Waiting On Acceptance:  800  \n",
       "                      :  118  \n",
       " (Other)              :  149  "
      ]
     },
     "metadata": {},
     "output_type": "display_data"
    }
   ],
   "source": [
    "dim(data)\n",
    "summary(data)"
   ]
  },
  {
   "cell_type": "code",
   "execution_count": 19,
   "id": "05b22f97",
   "metadata": {},
   "outputs": [
    {
     "data": {
      "text/html": [
       "'factor'"
      ],
      "text/latex": [
       "'factor'"
      ],
      "text/markdown": [
       "'factor'"
      ],
      "text/plain": [
       "[1] \"factor\""
      ]
     },
     "metadata": {},
     "output_type": "display_data"
    },
    {
     "data": {
      "text/html": [
       "<ol class=list-inline>\n",
       "\t<li>''</li>\n",
       "\t<li>'Accepted'</li>\n",
       "\t<li>'Cancelled'</li>\n",
       "\t<li>'NoPace'</li>\n",
       "\t<li>'Rejected'</li>\n",
       "\t<li>'Waiting On Acceptance'</li>\n",
       "\t<li>'Waiting On Recommendation'</li>\n",
       "\t<li>'Withdrawn'</li>\n",
       "</ol>\n"
      ],
      "text/latex": [
       "\\begin{enumerate*}\n",
       "\\item ''\n",
       "\\item 'Accepted'\n",
       "\\item 'Cancelled'\n",
       "\\item 'NoPace'\n",
       "\\item 'Rejected'\n",
       "\\item 'Waiting On Acceptance'\n",
       "\\item 'Waiting On Recommendation'\n",
       "\\item 'Withdrawn'\n",
       "\\end{enumerate*}\n"
      ],
      "text/markdown": [
       "1. ''\n",
       "2. 'Accepted'\n",
       "3. 'Cancelled'\n",
       "4. 'NoPace'\n",
       "5. 'Rejected'\n",
       "6. 'Waiting On Acceptance'\n",
       "7. 'Waiting On Recommendation'\n",
       "8. 'Withdrawn'\n",
       "\n",
       "\n"
      ],
      "text/plain": [
       "[1] \"\"                          \"Accepted\"                 \n",
       "[3] \"Cancelled\"                 \"NoPace\"                   \n",
       "[5] \"Rejected\"                  \"Waiting On Acceptance\"    \n",
       "[7] \"Waiting On Recommendation\" \"Withdrawn\"                "
      ]
     },
     "metadata": {},
     "output_type": "display_data"
    },
    {
     "data": {
      "text/html": [
       "8"
      ],
      "text/latex": [
       "8"
      ],
      "text/markdown": [
       "8"
      ],
      "text/plain": [
       "[1] 8"
      ]
     },
     "metadata": {},
     "output_type": "display_data"
    }
   ],
   "source": [
    "class(data$CurrentCondition)\n",
    "levels(data$CurrentCondition)\n",
    "length(levels(data$CurrentCondition))"
   ]
  },
  {
   "cell_type": "code",
   "execution_count": 20,
   "id": "35e80810",
   "metadata": {},
   "outputs": [
    {
     "data": {
      "text/html": [
       "FALSE"
      ],
      "text/latex": [
       "FALSE"
      ],
      "text/markdown": [
       "FALSE"
      ],
      "text/plain": [
       "[1] FALSE"
      ]
     },
     "metadata": {},
     "output_type": "display_data"
    },
    {
     "data": {
      "text/html": [
       "1"
      ],
      "text/latex": [
       "1"
      ],
      "text/markdown": [
       "1"
      ],
      "text/plain": [
       "[1] 1"
      ]
     },
     "metadata": {},
     "output_type": "display_data"
    },
    {
     "data": {
      "text/html": [
       "<table>\n",
       "<thead><tr><th></th><th scope=col>X</th><th scope=col>request_id</th><th scope=col>week_id</th><th scope=col>weekday</th><th scope=col>miles</th><th scope=col>order_equipment_type</th><th scope=col>order_distance</th><th scope=col>order_num_stops</th><th scope=col>order_origin_weight</th><th scope=col>lead_days</th><th scope=col>color</th><th scope=col>origin_dat_ref</th><th scope=col>dest_dat_ref</th><th scope=col>rate_norm</th><th scope=col>est_cost_norm</th><th scope=col>CurrentCondition</th></tr></thead>\n",
       "<tbody>\n",
       "\t<tr><th scope=row>81224</th><td>81223                           </td><td>f0293ccd87b445f5989c6c68726608dc</td><td>3                               </td><td>Fri                             </td><td>147                             </td><td>V                               </td><td>151                             </td><td>2                               </td><td>45007                           </td><td>3                               </td><td>RED                             </td><td>983                             </td><td>972                             </td><td>-0.6218265                      </td><td>-0.3533527                      </td><td>Withdrawn                       </td></tr>\n",
       "\t<tr><th scope=row>81225</th><td>81224                           </td><td>f0293ccd87b445f5989c6c68726608dc</td><td>3                               </td><td>Fri                             </td><td>147                             </td><td>V                               </td><td>151                             </td><td>2                               </td><td>45007                           </td><td>3                               </td><td>RED                             </td><td>983                             </td><td>972                             </td><td>-0.6218265                      </td><td>-0.3533527                      </td><td>Withdrawn                       </td></tr>\n",
       "</tbody>\n",
       "</table>\n"
      ],
      "text/latex": [
       "\\begin{tabular}{r|llllllllllllllll}\n",
       "  & X & request\\_id & week\\_id & weekday & miles & order\\_equipment\\_type & order\\_distance & order\\_num\\_stops & order\\_origin\\_weight & lead\\_days & color & origin\\_dat\\_ref & dest\\_dat\\_ref & rate\\_norm & est\\_cost\\_norm & CurrentCondition\\\\\n",
       "\\hline\n",
       "\t81224 & 81223                            & f0293ccd87b445f5989c6c68726608dc & 3                                & Fri                              & 147                              & V                                & 151                              & 2                                & 45007                            & 3                                & RED                              & 983                              & 972                              & -0.6218265                       & -0.3533527                       & Withdrawn                       \\\\\n",
       "\t81225 & 81224                            & f0293ccd87b445f5989c6c68726608dc & 3                                & Fri                              & 147                              & V                                & 151                              & 2                                & 45007                            & 3                                & RED                              & 983                              & 972                              & -0.6218265                       & -0.3533527                       & Withdrawn                       \\\\\n",
       "\\end{tabular}\n"
      ],
      "text/markdown": [
       "\n",
       "| <!--/--> | X | request_id | week_id | weekday | miles | order_equipment_type | order_distance | order_num_stops | order_origin_weight | lead_days | color | origin_dat_ref | dest_dat_ref | rate_norm | est_cost_norm | CurrentCondition |\n",
       "|---|---|---|---|---|---|---|---|---|---|---|---|---|---|---|---|---|\n",
       "| 81224 | 81223                            | f0293ccd87b445f5989c6c68726608dc | 3                                | Fri                              | 147                              | V                                | 151                              | 2                                | 45007                            | 3                                | RED                              | 983                              | 972                              | -0.6218265                       | -0.3533527                       | Withdrawn                        |\n",
       "| 81225 | 81224                            | f0293ccd87b445f5989c6c68726608dc | 3                                | Fri                              | 147                              | V                                | 151                              | 2                                | 45007                            | 3                                | RED                              | 983                              | 972                              | -0.6218265                       | -0.3533527                       | Withdrawn                        |\n",
       "\n"
      ],
      "text/plain": [
       "      X     request_id                       week_id weekday miles\n",
       "81224 81223 f0293ccd87b445f5989c6c68726608dc 3       Fri     147  \n",
       "81225 81224 f0293ccd87b445f5989c6c68726608dc 3       Fri     147  \n",
       "      order_equipment_type order_distance order_num_stops order_origin_weight\n",
       "81224 V                    151            2               45007              \n",
       "81225 V                    151            2               45007              \n",
       "      lead_days color origin_dat_ref dest_dat_ref rate_norm  est_cost_norm\n",
       "81224 3         RED   983            972          -0.6218265 -0.3533527   \n",
       "81225 3         RED   983            972          -0.6218265 -0.3533527   \n",
       "      CurrentCondition\n",
       "81224 Withdrawn       \n",
       "81225 Withdrawn       "
      ]
     },
     "metadata": {},
     "output_type": "display_data"
    }
   ],
   "source": [
    "#We know that requestID is non-unique from the summary function but lets be thorough\n",
    "isAllUnique <- length(unique(data$request_id)) == length(data$request_id)\n",
    "isAllUnique\n",
    "\n",
    "#Lets also take a look at how many non-unique requestIDs there are so we know if there are many duplicates or just a few.\n",
    "#Many might mean this is intentional or at least systematic, wheras a few might indicate human error.\n",
    "\n",
    "numNonUniqueReqID <- length(data$request_id) - length(unique(data$request_id))\n",
    "numNonUniqueReqID\n",
    "\n",
    "#There is only one but lets see how many rows have that id. Lets use code that\n",
    "#would pull all non-unique ids if there were more than one.\n",
    "\n",
    "data[data$request_id %in% unique(data[duplicated(data$request_id),]$request_id),]\n",
    "\n",
    "#Ok so we can see that there is in fact only one duplicate line and it is an\n",
    "#exact duplicate. Probably one of these should be removed so I will denotate\n",
    "#the unique identifier for that row.\n",
    "#           81224"
   ]
  },
  {
   "cell_type": "code",
   "execution_count": 21,
   "id": "b1b05f23",
   "metadata": {},
   "outputs": [
    {
     "data": {
      "text/html": [
       "1673"
      ],
      "text/latex": [
       "1673"
      ],
      "text/markdown": [
       "1673"
      ],
      "text/plain": [
       "[1] 1673"
      ]
     },
     "metadata": {},
     "output_type": "display_data"
    },
    {
     "data": {
      "text/html": [
       "0.0103550936786269"
      ],
      "text/latex": [
       "0.0103550936786269"
      ],
      "text/markdown": [
       "0.0103550936786269"
      ],
      "text/plain": [
       "[1] 0.01035509"
      ]
     },
     "metadata": {},
     "output_type": "display_data"
    },
    {
     "data": {
      "image/png": "[encoded data removed]",
      "text/plain": [
       "Plot with title \"Distribution of Conditions for Negative Lead Day Cases\""
      ]
     },
     "metadata": {},
     "output_type": "display_data"
    }
   ],
   "source": [
    "#Since we are on the topic of potential data issues, lets also take a look at\n",
    "#lead days. The description says tht lead days  is the number of days between\n",
    "#order placement and the pick up date. Given this description the value should't\n",
    "#be negative but we know from the summary that this isn't the case.\n",
    "#Perhaps if there was a case where there was a regular order that was delivered\n",
    "#before it was placed? An order being anticipated as part of \"Just in time?\"\n",
    "#How many of these cases are there?\n",
    "\n",
    "nrow(data[data$lead_days <0,])\n",
    "\n",
    "#as a percent\n",
    "\n",
    "nrow(data[data$lead_days <0,])/nrow(data)\n",
    "\n",
    "#It could be that 1% of the data are retroactive orders but I doubt it.\n",
    "#Another possibility could be that all these orders are rejected/withdrawn/canceled\n",
    "#and they are just human error. Lets check.\n",
    "\n",
    "negativeLeadDaysSubset <- data[data$lead_days < 0,]\n",
    "barplot(table(negativeLeadDaysSubset$CurrentCondition),las=2, main=\"Distribution of Conditions for Negative Lead Day Cases\")\n",
    "\n",
    "#While a good chunck of them are withdrawn, rejected, or canceled many more\n",
    "#are accepted. Given this, these results these are not likely to be a data problem,\n",
    "#just a documentation quirk for a specific kind of case.\n",
    "\n"
   ]
  },
  {
   "cell_type": "code",
   "execution_count": 22,
   "id": "809099d4",
   "metadata": {},
   "outputs": [
    {
     "data": {
      "text/html": [
       "<table>\n",
       "<thead><tr><th scope=col>X</th><th scope=col>request_id</th><th scope=col>week_id</th><th scope=col>weekday</th><th scope=col>miles</th><th scope=col>order_equipment_type</th><th scope=col>order_distance</th><th scope=col>order_num_stops</th><th scope=col>order_origin_weight</th><th scope=col>lead_days</th><th scope=col>color</th><th scope=col>origin_dat_ref</th><th scope=col>dest_dat_ref</th><th scope=col>rate_norm</th><th scope=col>est_cost_norm</th><th scope=col>CurrentCondition</th></tr></thead>\n",
       "<tbody>\n",
       "\t<tr><td>0   </td><td>0   </td><td>0   </td><td>0   </td><td>0   </td><td>0   </td><td>4678</td><td>0   </td><td>19  </td><td>0   </td><td>0   </td><td>0   </td><td>0   </td><td>181 </td><td>39  </td><td>0   </td></tr>\n",
       "</tbody>\n",
       "</table>\n"
      ],
      "text/latex": [
       "\\begin{tabular}{r|llllllllllllllll}\n",
       " X & request\\_id & week\\_id & weekday & miles & order\\_equipment\\_type & order\\_distance & order\\_num\\_stops & order\\_origin\\_weight & lead\\_days & color & origin\\_dat\\_ref & dest\\_dat\\_ref & rate\\_norm & est\\_cost\\_norm & CurrentCondition\\\\\n",
       "\\hline\n",
       "\t 0    & 0    & 0    & 0    & 0    & 0    & 4678 & 0    & 19   & 0    & 0    & 0    & 0    & 181  & 39   & 0   \\\\\n",
       "\\end{tabular}\n"
      ],
      "text/markdown": [
       "\n",
       "| X | request_id | week_id | weekday | miles | order_equipment_type | order_distance | order_num_stops | order_origin_weight | lead_days | color | origin_dat_ref | dest_dat_ref | rate_norm | est_cost_norm | CurrentCondition |\n",
       "|---|---|---|---|---|---|---|---|---|---|---|---|---|---|---|---|\n",
       "| 0    | 0    | 0    | 0    | 0    | 0    | 4678 | 0    | 19   | 0    | 0    | 0    | 0    | 181  | 39   | 0    |\n",
       "\n"
      ],
      "text/plain": [
       "  X request_id week_id weekday miles order_equipment_type order_distance\n",
       "1 0 0          0       0       0     0                    4678          \n",
       "  order_num_stops order_origin_weight lead_days color origin_dat_ref\n",
       "1 0               19                  0         0     0             \n",
       "  dest_dat_ref rate_norm est_cost_norm CurrentCondition\n",
       "1 0            181       39            0               "
      ]
     },
     "metadata": {},
     "output_type": "display_data"
    }
   ],
   "source": [
    "#We know there are NA values from the summary function but lets do it again for the sake\n",
    "# of thoroughness.\n",
    "#This will give us a dataframe with the number of NAs in each column.\n",
    "vectorOfNACounts <- lapply(data, function(y) sum(is.na(y)))\n",
    "data.frame(vectorOfNACounts)"
   ]
  },
  {
   "cell_type": "code",
   "execution_count": 23,
   "id": "a794455d",
   "metadata": {},
   "outputs": [
    {
     "data": {
      "text/plain": [
       "        CurrentCondition\n",
       "color          Accepted Cancelled NoPace Rejected Waiting On Acceptance\n",
       "  GREEN     29    41312       604      7     1353                     7\n",
       "  RED       81    40964      2503     47    33116                   721\n",
       "  YELLOW     8    13889       281      0     2674                    72\n",
       "        CurrentCondition\n",
       "color    Waiting On Recommendation Withdrawn\n",
       "  GREEN                         10      4118\n",
       "  RED                           82     17043\n",
       "  YELLOW                         3      2639"
      ]
     },
     "metadata": {},
     "output_type": "display_data"
    },
    {
     "data": {
      "image/png": "[encoded data removed]",
      "text/plain": [
       "plot without title"
      ]
     },
     "metadata": {},
     "output_type": "display_data"
    }
   ],
   "source": [
    "#Alright now for a quick check to confirm that color is 1:1 with CurrentCondition\n",
    "\n",
    "justColorAndCondition <- data[,c(\"color\",\"CurrentCondition\")]\n",
    "table(justColorAndCondition)\n",
    "\n",
    "#Ok. Well that was off. Lets see a graph...\n",
    "\n",
    "barplot(table(justColorAndCondition), legend = TRUE,las =2)\n",
    "\n",
    "#Alright I don't think I am going to make much more progress without seeing overall correlations so lets take a look..."
   ]
  },
  {
   "cell_type": "code",
   "execution_count": 24,
   "id": "96d69144",
   "metadata": {},
   "outputs": [],
   "source": [
    "#This code is code that I used in my initial data exploration. It created a table\n",
    "#that showed the correlation of all the variables against each other. Unfortunately,\n",
    "#this package overwrites the versions other packages, specifically ones that caret\n",
    "#requires to be unupdated in order to run in this version of R.\n",
    "\n",
    "#   library(ggcorrplot)\n",
    "\n",
    "#   #We are going to remove requestID, the NAs, and that duplicate from earlier\n",
    "\n",
    "#   dataForDummified <- select(data, -request_id,-CurrentCondition)\n",
    "#   dataForDummified <- na.omit(dataForDummified)\n",
    "#   dataForDummified <- dataForDummified[-81224,]\n",
    "#   dummifiedPredictor <- dummyVars(\"~ .\", data=dataForDummified)\n",
    "#   dummified <- data.frame(predict(dummifiedPredictor, newdata=dataForDummified))\n",
    "#   correlations <- cor(dummified)\n",
    "#   ggcorrplot(correlations)"
   ]
  },
  {
   "cell_type": "code",
   "execution_count": 25,
   "id": "e42b92a9",
   "metadata": {},
   "outputs": [
    {
     "data": {
      "text/html": [
       "0.701293584837911"
      ],
      "text/latex": [
       "0.701293584837911"
      ],
      "text/markdown": [
       "0.701293584837911"
      ],
      "text/plain": [
       "[1] 0.7012936"
      ]
     },
     "metadata": {},
     "output_type": "display_data"
    },
    {
     "data": {
      "image/png": "[encoded data removed]",
      "text/plain": [
       "plot without title"
      ]
     },
     "metadata": {},
     "output_type": "display_data"
    }
   ],
   "source": [
    "#Ok so we can see from this that the normalized rate and cost are both highly correlatedwith miles.\n",
    "#To a much lesser degree, we can see that a higher rate_norm is correlated with Green status.\n",
    "temp <- data\n",
    "temp <- na.omit(temp)\n",
    "cor(temp$miles,temp$rate_norm)\n",
    "plot(temp$miles~temp$rate_norm, xlim= c(-5,5))\n",
    "#You can see the clear correlation which is strong and positive."
   ]
  },
  {
   "cell_type": "code",
   "execution_count": 26,
   "id": "1b1d5900",
   "metadata": {},
   "outputs": [
    {
     "data": {
      "text/html": [
       "0.745950183476279"
      ],
      "text/latex": [
       "0.745950183476279"
      ],
      "text/markdown": [
       "0.745950183476279"
      ],
      "text/plain": [
       "[1] 0.7459502"
      ]
     },
     "metadata": {},
     "output_type": "display_data"
    },
    {
     "data": {
      "image/png": "[encoded data removed]",
      "text/plain": [
       "plot without title"
      ]
     },
     "metadata": {},
     "output_type": "display_data"
    }
   ],
   "source": [
    "#Here is est_cost_norm and miles\n",
    "cor(temp$miles,temp$est_cost_norm)\n",
    "plot(temp$miles~temp$est_cost_norm, xlim= c(-5,5))"
   ]
  },
  {
   "cell_type": "code",
   "execution_count": 27,
   "id": "255b43f8",
   "metadata": {},
   "outputs": [
    {
     "data": {
      "text/html": [
       "0.805134999202513"
      ],
      "text/latex": [
       "0.805134999202513"
      ],
      "text/markdown": [
       "0.805134999202513"
      ],
      "text/plain": [
       "[1] 0.805135"
      ]
     },
     "metadata": {},
     "output_type": "display_data"
    },
    {
     "data": {
      "image/png": "[encoded data removed]",
      "text/plain": [
       "plot without title"
      ]
     },
     "metadata": {},
     "output_type": "display_data"
    }
   ],
   "source": [
    "#Here is est_cost_norm and rate_norm... just curious\n",
    "cor(temp$rate_norm,temp$est_cost_norm)\n",
    "plot(temp$rate_norm~temp$est_cost_norm, xlim= c(-5,5),ylim=c(-5,5))"
   ]
  },
  {
   "cell_type": "code",
   "execution_count": 28,
   "id": "909214f1",
   "metadata": {},
   "outputs": [
    {
     "data": {
      "text/plain": [
       "       X                                     request_id      week_id     \n",
       " Min.   :    40   00000bafac3f429fb206bc74e2d13a32:   1   Min.   :1.000  \n",
       " 1st Qu.: 40023   000362bf8a1e4f6b9f767008f3dce956:   1   1st Qu.:1.000  \n",
       " Median : 78784   000594859005450f8a0ce061884ef87d:   1   Median :2.000  \n",
       " Mean   : 79749   001e1ca255524c778584e083f97e5f3f:   1   Mean   :2.392  \n",
       " 3rd Qu.:119897   0025e83ad7554e2a91856eaafdaecdfe:   1   3rd Qu.:3.000  \n",
       " Max.   :161539   006f2b5694374454a55da8cfad00bd58:   1   Max.   :4.000  \n",
       "                  (Other)                         :4672                  \n",
       " weekday        miles      order_equipment_type order_distance order_num_stops\n",
       " Fri: 846   Min.   :   1   R: 923               Min.   : NA    Min.   :2.000  \n",
       " Mon: 944   1st Qu.: 330   V:3755               1st Qu.: NA    1st Qu.:3.000  \n",
       " Sat:  33   Median : 642                        Median : NA    Median :3.000  \n",
       " Sun:  13   Mean   : 802                        Mean   :NaN    Mean   :3.063  \n",
       " Thu: 862   3rd Qu.:1093                        3rd Qu.: NA    3rd Qu.:3.000  \n",
       " Tue:1017   Max.   :6171                        Max.   : NA    Max.   :4.000  \n",
       " Wed: 963                                       NA's   :4678                  \n",
       " order_origin_weight   lead_days          color      origin_dat_ref \n",
       " Min.   :     1      Min.   :-83.000   GREEN : 903   Min.   : 10.0  \n",
       " 1st Qu.: 14300      1st Qu.:  2.000   RED   :3496   1st Qu.:302.0  \n",
       " Median : 24122      Median :  4.000   YELLOW: 279   Median :496.0  \n",
       " Mean   : 26071      Mean   :  6.411                 Mean   :509.1  \n",
       " 3rd Qu.: 40020      3rd Qu.:  7.000                 3rd Qu.:750.0  \n",
       " Max.   :196758      Max.   :194.000                 Max.   :993.0  \n",
       "                                                                    \n",
       "  dest_dat_ref     rate_norm        est_cost_norm    \n",
       " Min.   : 10.0   Min.   :-2.33061   Min.   :-2.1482  \n",
       " 1st Qu.:295.2   1st Qu.:-0.50528   1st Qu.:-0.3300  \n",
       " Median :494.0   Median : 0.08509   Median : 0.3820  \n",
       " Mean   :517.7   Mean   : 0.34394   Mean   : 0.5824  \n",
       " 3rd Qu.:775.0   3rd Qu.: 0.95525   3rd Qu.: 1.2744  \n",
       " Max.   :994.0   Max.   :13.57847   Max.   : 9.9551  \n",
       "                 NA's   :2          NA's   :2        \n",
       "                  CurrentCondition\n",
       " Accepted                 :2521   \n",
       " Rejected                 :1436   \n",
       " Withdrawn                : 540   \n",
       " Cancelled                : 130   \n",
       " Waiting On Acceptance    :  43   \n",
       " Waiting On Recommendation:   8   \n",
       " (Other)                  :   0   "
      ]
     },
     "metadata": {},
     "output_type": "display_data"
    }
   ],
   "source": [
    "#I would also like to quickly check to see if there are any trends within the group of order_distance that are NA.\n",
    "#Whats up with these?\n",
    "naDistance <- data[is.na(data$order_distance),]\n",
    "summary(naDistance)\n",
    "#These seem pretty representative..."
   ]
  },
  {
   "cell_type": "code",
   "execution_count": 29,
   "id": "4322ac2d",
   "metadata": {},
   "outputs": [
    {
     "data": {
      "text/plain": [
       "CART \n",
       "\n",
       "141022 samples\n",
       "    22 predictor\n",
       "     8 classes: '', 'Accepted', 'Cancelled', 'NoPace', 'Rejected', 'Waiting On Acceptance', 'Waiting On Recommendation', 'Withdrawn' \n",
       "\n",
       "No pre-processing\n",
       "Resampling: Cross-Validated (5 fold, repeated 3 times) \n",
       "Summary of sample sizes: 112816, 112816, 112819, 112818, 112819, 112818, ... \n",
       "Resampling results across tuning parameters:\n",
       "\n",
       "  cp           Accuracy   Kappa     \n",
       "  0.004114865  0.6254179  0.18584812\n",
       "  0.004180808  0.6253163  0.18574425\n",
       "  0.022306434  0.6044777  0.04568042\n",
       "\n",
       "Accuracy was used to select the optimal model using the largest value.\n",
       "The final value used for the model was cp = 0.004114865."
      ]
     },
     "metadata": {},
     "output_type": "display_data"
    }
   ],
   "source": [
    "dataForModel <- select(data, -request_id,-X)\n",
    "dataForModel <- na.omit(dataForModel)\n",
    "dataForModel <- dataForModel[-81224,]\n",
    "# Creating a reproducable test train split.\n",
    "set.seed(555)\n",
    "train_indexes <- createDataPartition(dataForModel$CurrentCondition,p=.9,times=1,list =FALSE)\n",
    "trainSet <- dataForModel[train_indexes,]\n",
    "testSet <- dataForModel[-train_indexes,]\n",
    "trainY <- trainSet$CurrentCondition\n",
    "trainX <- select(trainSet,-CurrentCondition)\n",
    "trainXPredictor <- dummyVars(\"~ .\", data=trainX)\n",
    "trainXDummies <- as.data.frame(predict(trainXPredictor, newdata=trainX))\n",
    "dataInput <- trainXDummies\n",
    "dataInput$CurrentCondition <- as.factor(trainY)\n",
    "#creating a control\n",
    "control <- trainControl(method=\"repeatedcv\", number = 5, repeats = 3)\n",
    "#------------------------------------------------------------------------------------\n",
    "#Actually creating the model, in this case a simple decision tree\n",
    "#------------------------------------------------------------------------------------\n",
    "treeMethod <- train(CurrentCondition~.,data=dataInput,method='rpart',trControl=control)\n",
    "treeMethod"
   ]
  },
  {
   "cell_type": "code",
   "execution_count": 30,
   "id": "6ac65d27",
   "metadata": {},
   "outputs": [],
   "source": [
    "#For this second model I have tried a few things. The methods I know for multiple outcome classification are decision Trees (boosted or otherwise)\n",
    "# KNN (which isn't ideal because there can be many way ties and my computer can't handle the up front computational power needed to sort the data set),\n",
    "# Naive Bayes (which I successfully ran with a result of .2 accuracy model and decided I could do better), Random Forest (which\n",
    "# my computer also couldn't handle for a dataset this large). After rereading up on each I think that the best bet in this case is Gradient Boosting\n",
    "# and that I should look carefully to make sure its not overfitting. However, since my computer is not great, I\n",
    "# will run it on a small subset of the data.\n",
    "\n",
    "set.seed(555)\n",
    "\n",
    "#creating a smaller subset\n",
    "\n",
    "dataTemp <- select(data,-request_id, -X)\n",
    "dataTemp <- dataTemp[-81224,]\n",
    "dataSmallIndex <- createDataPartition(dataTemp$CurrentCondition,p=.01,times=1,list = FALSE)\n",
    "dataSmallTrain <- na.omit(dataTemp[dataSmallIndex,])\n",
    "dataSmallTest <- na.omit(dataTemp[-dataSmallIndex,])\n",
    "\n",
    "#identical control\n",
    "\n",
    "control <- trainControl(method=\"repeatedcv\", number = 5, repeats = 3)"
   ]
  },
  {
   "cell_type": "code",
   "execution_count": 31,
   "id": "7da9bb3f",
   "metadata": {},
   "outputs": [
    {
     "name": "stderr",
     "output_type": "stream",
     "text": [
      "Warning message in (function (x, y, offset = NULL, misc = NULL, distribution = \"bernoulli\", :\n",
      "\"variable 11: order_num_stops has no variation.\"Warning message in (function (x, y, offset = NULL, misc = NULL, distribution = \"bernoulli\", :\n",
      "\"variable 11: order_num_stops has no variation.\"Warning message in (function (x, y, offset = NULL, misc = NULL, distribution = \"bernoulli\", :\n",
      "\"variable 11: order_num_stops has no variation.\"Warning message in (function (x, y, offset = NULL, misc = NULL, distribution = \"bernoulli\", :\n",
      "\"variable 11: order_num_stops has no variation.\"Warning message in (function (x, y, offset = NULL, misc = NULL, distribution = \"bernoulli\", :\n",
      "\"variable 11: order_num_stops has no variation.\"Warning message in (function (x, y, offset = NULL, misc = NULL, distribution = \"bernoulli\", :\n",
      "\"variable 11: order_num_stops has no variation.\"Warning message in (function (x, y, offset = NULL, misc = NULL, distribution = \"bernoulli\", :\n",
      "\"variable 11: order_num_stops has no variation.\"Warning message in (function (x, y, offset = NULL, misc = NULL, distribution = \"bernoulli\", :\n",
      "\"variable 11: order_num_stops has no variation.\"Warning message in (function (x, y, offset = NULL, misc = NULL, distribution = \"bernoulli\", :\n",
      "\"variable 11: order_num_stops has no variation.\"Warning message in (function (x, y, offset = NULL, misc = NULL, distribution = \"bernoulli\", :\n",
      "\"variable 11: order_num_stops has no variation.\"Warning message in (function (x, y, offset = NULL, misc = NULL, distribution = \"bernoulli\", :\n",
      "\"variable 11: order_num_stops has no variation.\"Warning message in (function (x, y, offset = NULL, misc = NULL, distribution = \"bernoulli\", :\n",
      "\"variable 11: order_num_stops has no variation.\"Warning message in (function (x, y, offset = NULL, misc = NULL, distribution = \"bernoulli\", :\n",
      "\"variable 11: order_num_stops has no variation.\"Warning message in (function (x, y, offset = NULL, misc = NULL, distribution = \"bernoulli\", :\n",
      "\"variable 11: order_num_stops has no variation.\"Warning message in (function (x, y, offset = NULL, misc = NULL, distribution = \"bernoulli\", :\n",
      "\"variable 11: order_num_stops has no variation.\"Warning message in (function (x, y, offset = NULL, misc = NULL, distribution = \"bernoulli\", :\n",
      "\"variable 11: order_num_stops has no variation.\"Warning message in (function (x, y, offset = NULL, misc = NULL, distribution = \"bernoulli\", :\n",
      "\"variable 11: order_num_stops has no variation.\"Warning message in (function (x, y, offset = NULL, misc = NULL, distribution = \"bernoulli\", :\n",
      "\"variable 11: order_num_stops has no variation.\"Warning message in (function (x, y, offset = NULL, misc = NULL, distribution = \"bernoulli\", :\n",
      "\"variable 11: order_num_stops has no variation.\"Warning message in (function (x, y, offset = NULL, misc = NULL, distribution = \"bernoulli\", :\n",
      "\"variable 11: order_num_stops has no variation.\"Warning message in (function (x, y, offset = NULL, misc = NULL, distribution = \"bernoulli\", :\n",
      "\"variable 11: order_num_stops has no variation.\"Warning message in (function (x, y, offset = NULL, misc = NULL, distribution = \"bernoulli\", :\n",
      "\"variable 11: order_num_stops has no variation.\"Warning message in (function (x, y, offset = NULL, misc = NULL, distribution = \"bernoulli\", :\n",
      "\"variable 11: order_num_stops has no variation.\"Warning message in (function (x, y, offset = NULL, misc = NULL, distribution = \"bernoulli\", :\n",
      "\"variable 11: order_num_stops has no variation.\"Warning message in (function (x, y, offset = NULL, misc = NULL, distribution = \"bernoulli\", :\n",
      "\"variable 11: order_num_stops has no variation.\"Warning message in (function (x, y, offset = NULL, misc = NULL, distribution = \"bernoulli\", :\n",
      "\"variable 11: order_num_stops has no variation.\"Warning message in (function (x, y, offset = NULL, misc = NULL, distribution = \"bernoulli\", :\n",
      "\"variable 11: order_num_stops has no variation.\"Warning message in (function (x, y, offset = NULL, misc = NULL, distribution = \"bernoulli\", :\n",
      "\"variable 11: order_num_stops has no variation.\"Warning message in (function (x, y, offset = NULL, misc = NULL, distribution = \"bernoulli\", :\n",
      "\"variable 11: order_num_stops has no variation.\"Warning message in (function (x, y, offset = NULL, misc = NULL, distribution = \"bernoulli\", :\n",
      "\"variable 11: order_num_stops has no variation.\"Warning message in (function (x, y, offset = NULL, misc = NULL, distribution = \"bernoulli\", :\n",
      "\"variable 11: order_num_stops has no variation.\"Warning message in (function (x, y, offset = NULL, misc = NULL, distribution = \"bernoulli\", :\n",
      "\"variable 11: order_num_stops has no variation.\"Warning message in (function (x, y, offset = NULL, misc = NULL, distribution = \"bernoulli\", :\n",
      "\"variable 11: order_num_stops has no variation.\"Warning message in (function (x, y, offset = NULL, misc = NULL, distribution = \"bernoulli\", :\n",
      "\"variable 11: order_num_stops has no variation.\"Warning message in (function (x, y, offset = NULL, misc = NULL, distribution = \"bernoulli\", :\n",
      "\"variable 11: order_num_stops has no variation.\"Warning message in (function (x, y, offset = NULL, misc = NULL, distribution = \"bernoulli\", :\n",
      "\"variable 11: order_num_stops has no variation.\"Warning message in (function (x, y, offset = NULL, misc = NULL, distribution = \"bernoulli\", :\n",
      "\"variable 11: order_num_stops has no variation.\"Warning message in (function (x, y, offset = NULL, misc = NULL, distribution = \"bernoulli\", :\n",
      "\"variable 11: order_num_stops has no variation.\"Warning message in (function (x, y, offset = NULL, misc = NULL, distribution = \"bernoulli\", :\n",
      "\"variable 11: order_num_stops has no variation.\"Warning message in (function (x, y, offset = NULL, misc = NULL, distribution = \"bernoulli\", :\n",
      "\"variable 11: order_num_stops has no variation.\"Warning message in (function (x, y, offset = NULL, misc = NULL, distribution = \"bernoulli\", :\n",
      "\"variable 11: order_num_stops has no variation.\"Warning message in (function (x, y, offset = NULL, misc = NULL, distribution = \"bernoulli\", :\n",
      "\"variable 11: order_num_stops has no variation.\"Warning message in (function (x, y, offset = NULL, misc = NULL, distribution = \"bernoulli\", :\n",
      "\"variable 11: order_num_stops has no variation.\"Warning message in (function (x, y, offset = NULL, misc = NULL, distribution = \"bernoulli\", :\n",
      "\"variable 11: order_num_stops has no variation.\"Warning message in (function (x, y, offset = NULL, misc = NULL, distribution = \"bernoulli\", :\n",
      "\"variable 11: order_num_stops has no variation.\"Warning message in (function (x, y, offset = NULL, misc = NULL, distribution = \"bernoulli\", :\n",
      "\"variable 11: order_num_stops has no variation.\""
     ]
    },
    {
     "data": {
      "text/plain": [
       "Stochastic Gradient Boosting \n",
       "\n",
       "1565 samples\n",
       "  13 predictor\n",
       "   8 classes: '', 'Accepted', 'Cancelled', 'NoPace', 'Rejected', 'Waiting On Acceptance', 'Waiting On Recommendation', 'Withdrawn' \n",
       "\n",
       "No pre-processing\n",
       "Resampling: Cross-Validated (5 fold, repeated 3 times) \n",
       "Summary of sample sizes: 1252, 1253, 1250, 1253, 1252, 1250, ... \n",
       "Resampling results across tuning parameters:\n",
       "\n",
       "  interaction.depth  n.trees  Accuracy   Kappa    \n",
       "  1                   50      0.6180905  0.1821782\n",
       "  1                  100      0.6151316  0.2029470\n",
       "  1                  150      0.6115047  0.2070756\n",
       "  2                   50      0.6147071  0.2080525\n",
       "  2                  100      0.6117081  0.2218667\n",
       "  2                  150      0.6065948  0.2231738\n",
       "  3                   50      0.6091671  0.2124141\n",
       "  3                  100      0.6063893  0.2208280\n",
       "  3                  150      0.6027616  0.2220426\n",
       "\n",
       "Tuning parameter 'shrinkage' was held constant at a value of 0.1\n",
       "\n",
       "Tuning parameter 'n.minobsinnode' was held constant at a value of 10\n",
       "Accuracy was used to select the optimal model using the largest value.\n",
       "The final values used for the model were n.trees = 50, interaction.depth =\n",
       " 1, shrinkage = 0.1 and n.minobsinnode = 10."
      ]
     },
     "metadata": {},
     "output_type": "display_data"
    }
   ],
   "source": [
    "#actually running a gradient boosted decision tree model\n",
    "#-------------------------------------------------------------------\n",
    "gradientBoosting <- train(CurrentCondition~., data = dataSmallTrain ,method='gbm',trControl=control,verbose = FALSE)\n",
    "gradientBoosting"
   ]
  },
  {
   "cell_type": "code",
   "execution_count": 32,
   "id": "897e5431",
   "metadata": {},
   "outputs": [
    {
     "name": "stdout",
     "output_type": "stream",
     "text": [
      "[1] \"These are the variables chosen by the regular tree model in order of Importance.\"\n"
     ]
    },
    {
     "data": {
      "text/plain": [
       "rpart variable importance\n",
       "\n",
       "  only 20 most important variables shown (out of 22)\n",
       "\n",
       "                        Overall\n",
       "color.RED              100.0000\n",
       "color.GREEN             84.8222\n",
       "order_origin_weight     34.3857\n",
       "origin_dat_ref          28.8834\n",
       "lead_days               16.0749\n",
       "miles                   10.9875\n",
       "order_distance           8.5899\n",
       "color.YELLOW             4.9566\n",
       "order_equipment_type.V   2.5342\n",
       "order_equipment_type.R   2.5342\n",
       "est_cost_norm            1.1021\n",
       "dest_dat_ref             0.8157\n",
       "weekday.Thu              0.6046\n",
       "order_num_stops          0.0000\n",
       "week_id                  0.0000\n",
       "weekday.Wed              0.0000\n",
       "weekday.Fri              0.0000\n",
       "weekday.Sun              0.0000\n",
       "rate_norm                0.0000\n",
       "weekday.Sat              0.0000"
      ]
     },
     "metadata": {},
     "output_type": "display_data"
    }
   ],
   "source": [
    "#print the important variables for the simple decision tree\n",
    "#-----------------------------------------------------------------\n",
    "print(\"These are the variables chosen by the regular tree model in order of Importance.\")\n",
    "library(gbm)\n",
    "varImp(treeMethod)"
   ]
  },
  {
   "cell_type": "code",
   "execution_count": 33,
   "id": "b2b422fe",
   "metadata": {},
   "outputs": [
    {
     "name": "stdout",
     "output_type": "stream",
     "text": [
      "[1] \"These are the variables chosen by the gradient boosted tree model in order of Importance.\"\n"
     ]
    },
    {
     "data": {
      "text/plain": [
       "gbm variable importance\n",
       "\n",
       "                       Overall\n",
       "colorRED              100.0000\n",
       "order_origin_weight    30.4943\n",
       "origin_dat_ref         24.8245\n",
       "dest_dat_ref           14.8896\n",
       "lead_days              11.9259\n",
       "rate_norm               9.0523\n",
       "est_cost_norm           7.6220\n",
       "miles                   5.9009\n",
       "order_distance          4.6923\n",
       "weekdayTue              3.6395\n",
       "week_id                 1.8429\n",
       "colorYELLOW             1.6925\n",
       "weekdayMon              0.8545\n",
       "order_equipment_typeV   0.4801\n",
       "weekdaySun              0.4528\n",
       "weekdayWed              0.0000\n",
       "weekdayThu              0.0000\n",
       "weekdaySat              0.0000\n",
       "order_num_stops         0.0000"
      ]
     },
     "metadata": {},
     "output_type": "display_data"
    }
   ],
   "source": [
    "#print the important variables for the boosted decision tree\n",
    "#-----------------------------------------------------------------\n",
    "print(\"These are the variables chosen by the gradient boosted tree model in order of Importance.\")\n",
    "library(gbm)\n",
    "varImp(gradientBoosting)"
   ]
  },
  {
   "cell_type": "code",
   "execution_count": 34,
   "id": "9f94876d",
   "metadata": {},
   "outputs": [
    {
     "data": {
      "text/plain": [
       " Cohen's Kappa for 2 Raters (Weights: unweighted)\n",
       "\n",
       " Subjects = 15664 \n",
       "   Raters = 2 \n",
       "    Kappa = 0.194 \n",
       "\n",
       "        z = 38.1 \n",
       "  p-value = 0 "
      ]
     },
     "metadata": {},
     "output_type": "display_data"
    }
   ],
   "source": [
    "testY <- testSet$CurrentCondition\n",
    "testX <- select(testSet, -CurrentCondition)\n",
    "testXPredictor <- dummyVars(\"~ .\",data=testX)\n",
    "testXDummies <-as.data.frame(predict(testXPredictor, newdata=testX))\n",
    "treePredictions <- predict(treeMethod,testXDummies)\n",
    "\n",
    "library(irr)\n",
    "kappa2(cbind(testY,treePredictions))"
   ]
  },
  {
   "cell_type": "code",
   "execution_count": 35,
   "id": "9d68c790",
   "metadata": {},
   "outputs": [
    {
     "data": {
      "text/plain": [
       " Cohen's Kappa for 2 Raters (Weights: unweighted)\n",
       "\n",
       " Subjects = 155121 \n",
       "   Raters = 2 \n",
       "    Kappa = 0.172 \n",
       "\n",
       "        z = 102 \n",
       "  p-value = 0 "
      ]
     },
     "metadata": {},
     "output_type": "display_data"
    }
   ],
   "source": [
    "testY <- dataSmallTest$CurrentCondition\n",
    "testX <- select(dataSmallTest, -CurrentCondition)\n",
    "gradientPredictions <- predict(gradientBoosting,testX)\n",
    "\n",
    "library(irr)\n",
    "kappa2(cbind(testY,gradientPredictions))"
   ]
  },
  {
   "cell_type": "code",
   "execution_count": null,
   "id": "c883a89d",
   "metadata": {},
   "outputs": [],
   "source": []
  }
 ],
 "metadata": {
  "kernelspec": {
   "display_name": "R",
   "language": "R",
   "name": "ir"
  },
  "language_info": {
   "codemirror_mode": "r",
   "file_extension": ".r",
   "mimetype": "text/x-r-source",
   "name": "R",
   "pygments_lexer": "r",
   "version": "3.6.1"
  }
 },
 "nbformat": 4,
 "nbformat_minor": 5
}
